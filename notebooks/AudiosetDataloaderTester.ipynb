{
 "cells": [
  {
   "cell_type": "code",
   "execution_count": 1,
   "id": "45104f35-df5a-4875-b784-ac1825745278",
   "metadata": {},
   "outputs": [],
   "source": [
    "import sys\n",
    "\n",
    "sys.path.append(\"/u/li19/diffusers_with_dataloader/examples/audio_generation/audio_gen_files\")\n",
    "from AudiosetDataset import AudiosetDataset\n",
    "from transformers import CLIPTextModel, CLIPTokenizer\n",
    "from transformers import AutoTokenizer, T5EncoderModel,T5TokenizerFast\n",
    "\n",
    "from diffusers import StableDiffusionPipeline\n",
    "import torch\n",
    "import matplotlib.pyplot as plt\n",
    "import json\n",
    "# device = \"cuda\"\n",
    "device = \"cpu\""
   ]
  },
  {
   "cell_type": "code",
   "execution_count": 2,
   "id": "2a5a4068-773f-4878-908c-f512858d25a7",
   "metadata": {
    "scrolled": true,
    "tags": []
   },
   "outputs": [
    {
     "name": "stderr",
     "output_type": "stream",
     "text": [
      "You are using a model of type clap_text_model to instantiate a model of type t5. This is not supported for all configurations of models and can yield errors.\n",
      "Some weights of the model checkpoint at cvssp/audioldm-m-full were not used when initializing T5EncoderModel: ['text_model.encoder.layer.1.output.LayerNorm.weight', 'text_model.encoder.layer.6.attention.output.LayerNorm.weight', 'text_model.encoder.layer.8.output.LayerNorm.weight', 'text_model.encoder.layer.0.attention.self.value.bias', 'text_model.encoder.layer.5.attention.output.dense.weight', 'text_model.encoder.layer.6.attention.self.query.weight', 'text_model.encoder.layer.4.output.LayerNorm.weight', 'text_model.encoder.layer.5.attention.output.LayerNorm.bias', 'text_projection.linear1.bias', 'text_model.encoder.layer.2.intermediate.dense.bias', 'text_model.encoder.layer.8.attention.self.value.weight', 'text_model.encoder.layer.9.output.LayerNorm.weight', 'text_model.encoder.layer.5.attention.self.value.weight', 'text_model.encoder.layer.5.output.LayerNorm.bias', 'text_model.encoder.layer.6.attention.output.dense.bias', 'text_model.encoder.layer.7.output.dense.weight', 'text_model.encoder.layer.3.intermediate.dense.bias', 'text_model.encoder.layer.11.attention.self.key.bias', 'text_model.encoder.layer.9.attention.self.query.bias', 'text_model.encoder.layer.7.attention.self.query.weight', 'text_model.encoder.layer.7.attention.self.value.weight', 'text_model.encoder.layer.9.attention.output.dense.weight', 'text_model.encoder.layer.3.output.LayerNorm.bias', 'text_model.encoder.layer.10.intermediate.dense.weight', 'text_model.encoder.layer.11.attention.self.value.weight', 'text_model.encoder.layer.5.output.dense.weight', 'text_model.encoder.layer.10.attention.self.query.bias', 'text_model.encoder.layer.9.attention.output.dense.bias', 'text_model.encoder.layer.3.output.dense.weight', 'text_model.encoder.layer.1.attention.self.value.weight', 'text_model.pooler.dense.weight', 'text_model.encoder.layer.0.output.LayerNorm.weight', 'text_model.encoder.layer.2.attention.self.value.bias', 'text_model.encoder.layer.2.output.dense.weight', 'text_model.encoder.layer.5.attention.self.key.weight', 'text_model.encoder.layer.4.attention.self.key.bias', 'text_model.encoder.layer.10.attention.self.value.bias', 'text_model.encoder.layer.11.attention.output.LayerNorm.weight', 'text_model.encoder.layer.6.attention.self.value.weight', 'text_model.encoder.layer.1.output.dense.bias', 'text_model.encoder.layer.9.attention.self.value.weight', 'text_model.encoder.layer.4.intermediate.dense.weight', 'text_model.encoder.layer.4.attention.self.value.bias', 'text_model.encoder.layer.11.attention.output.LayerNorm.bias', 'text_model.encoder.layer.9.intermediate.dense.weight', 'text_model.encoder.layer.9.output.dense.bias', 'text_model.encoder.layer.0.output.dense.bias', 'text_model.embeddings.position_ids', 'text_model.encoder.layer.6.attention.output.dense.weight', 'text_model.encoder.layer.8.attention.self.key.weight', 'text_model.encoder.layer.11.output.LayerNorm.bias', 'text_model.encoder.layer.8.output.dense.weight', 'text_model.encoder.layer.8.output.LayerNorm.bias', 'text_model.encoder.layer.6.output.LayerNorm.weight', 'text_model.encoder.layer.10.intermediate.dense.bias', 'text_model.encoder.layer.11.attention.self.query.bias', 'text_model.embeddings.LayerNorm.bias', 'text_model.encoder.layer.10.attention.self.query.weight', 'text_model.encoder.layer.7.attention.output.dense.weight', 'text_model.encoder.layer.11.intermediate.dense.weight', 'text_model.encoder.layer.8.attention.output.LayerNorm.bias', 'text_model.encoder.layer.5.intermediate.dense.bias', 'text_model.encoder.layer.0.attention.self.key.weight', 'text_model.encoder.layer.4.intermediate.dense.bias', 'text_model.encoder.layer.5.attention.self.query.bias', 'text_model.encoder.layer.7.intermediate.dense.bias', 'text_model.encoder.layer.9.attention.self.query.weight', 'text_model.encoder.layer.9.attention.output.LayerNorm.bias', 'text_model.encoder.layer.7.attention.self.key.bias', 'text_model.encoder.layer.3.output.LayerNorm.weight', 'text_model.encoder.layer.4.attention.output.LayerNorm.bias', 'text_model.encoder.layer.3.attention.self.key.weight', 'text_model.encoder.layer.1.attention.self.key.weight', 'text_model.encoder.layer.2.attention.self.value.weight', 'text_model.encoder.layer.4.attention.self.value.weight', 'text_model.encoder.layer.5.intermediate.dense.weight', 'text_model.encoder.layer.6.attention.self.key.bias', 'text_model.encoder.layer.5.output.dense.bias', 'text_model.encoder.layer.8.attention.self.value.bias', 'text_model.encoder.layer.2.output.LayerNorm.bias', 'text_model.encoder.layer.8.attention.output.dense.bias', 'text_model.encoder.layer.1.intermediate.dense.bias', 'text_model.encoder.layer.1.attention.output.dense.bias', 'text_model.encoder.layer.4.attention.self.query.weight', 'text_model.embeddings.token_type_embeddings.weight', 'text_model.encoder.layer.11.output.dense.weight', 'text_model.encoder.layer.1.intermediate.dense.weight', 'text_model.encoder.layer.7.attention.output.LayerNorm.bias', 'text_model.encoder.layer.0.attention.self.value.weight', 'text_model.encoder.layer.8.intermediate.dense.weight', 'text_model.encoder.layer.3.intermediate.dense.weight', 'text_model.encoder.layer.5.attention.self.query.weight', 'text_model.encoder.layer.1.attention.self.query.bias', 'text_model.encoder.layer.0.attention.self.query.weight', 'text_model.encoder.layer.4.output.dense.weight', 'text_model.encoder.layer.6.output.dense.bias', 'text_model.encoder.layer.7.attention.output.LayerNorm.weight', 'text_model.encoder.layer.1.attention.self.query.weight', 'text_model.encoder.layer.0.intermediate.dense.weight', 'text_model.encoder.layer.3.attention.output.dense.bias', 'text_model.encoder.layer.2.attention.output.LayerNorm.weight', 'text_model.encoder.layer.3.attention.self.key.bias', 'text_model.encoder.layer.8.attention.self.query.weight', 'text_model.encoder.layer.9.attention.self.key.bias', 'text_model.encoder.layer.3.attention.self.query.bias', 'text_model.encoder.layer.0.attention.output.dense.weight', 'text_model.encoder.layer.4.output.LayerNorm.bias', 'text_model.encoder.layer.10.output.dense.weight', 'text_model.encoder.layer.11.attention.output.dense.bias', 'text_projection.linear2.bias', 'text_model.encoder.layer.2.attention.self.key.bias', 'text_model.encoder.layer.2.intermediate.dense.weight', 'text_model.embeddings.LayerNorm.weight', 'text_model.encoder.layer.3.attention.output.LayerNorm.bias', 'text_model.encoder.layer.11.attention.self.value.bias', 'text_model.encoder.layer.10.attention.self.key.weight', 'text_model.embeddings.token_type_ids', 'text_model.encoder.layer.10.attention.self.key.bias', 'text_model.encoder.layer.1.output.LayerNorm.bias', 'text_model.encoder.layer.7.intermediate.dense.weight', 'text_model.encoder.layer.8.intermediate.dense.bias', 'text_model.encoder.layer.11.attention.output.dense.weight', 'text_model.encoder.layer.8.output.dense.bias', 'text_model.encoder.layer.4.attention.output.dense.bias', 'text_model.encoder.layer.2.attention.self.query.bias', 'text_model.encoder.layer.4.attention.output.dense.weight', 'text_model.encoder.layer.7.attention.self.key.weight', 'text_model.encoder.layer.8.attention.self.query.bias', 'text_model.encoder.layer.7.attention.self.value.bias', 'text_model.encoder.layer.5.attention.self.key.bias', 'text_model.encoder.layer.10.attention.output.dense.bias', 'text_model.encoder.layer.10.output.LayerNorm.bias', 'text_model.encoder.layer.0.attention.self.query.bias', 'text_model.encoder.layer.6.intermediate.dense.weight', 'text_model.embeddings.position_embeddings.weight', 'text_model.encoder.layer.11.output.dense.bias', 'text_model.encoder.layer.7.attention.output.dense.bias', 'text_model.encoder.layer.9.intermediate.dense.bias', 'text_model.encoder.layer.1.attention.self.key.bias', 'text_model.encoder.layer.8.attention.output.LayerNorm.weight', 'text_model.encoder.layer.2.attention.output.LayerNorm.bias', 'text_model.encoder.layer.5.attention.output.LayerNorm.weight', 'text_model.encoder.layer.0.attention.self.key.bias', 'text_model.encoder.layer.9.output.dense.weight', 'text_model.encoder.layer.0.intermediate.dense.bias', 'text_model.encoder.layer.10.output.LayerNorm.weight', 'text_model.encoder.layer.7.output.LayerNorm.weight', 'text_model.encoder.layer.1.output.dense.weight', 'text_model.encoder.layer.0.output.LayerNorm.bias', 'text_model.encoder.layer.3.attention.output.dense.weight', 'text_model.encoder.layer.1.attention.output.dense.weight', 'text_model.encoder.layer.6.attention.self.value.bias', 'text_model.encoder.layer.2.attention.output.dense.weight', 'text_projection.linear2.weight', 'text_model.encoder.layer.1.attention.output.LayerNorm.bias', 'text_model.encoder.layer.9.attention.output.LayerNorm.weight', 'text_model.encoder.layer.5.output.LayerNorm.weight', 'text_model.encoder.layer.3.attention.self.query.weight', 'text_model.encoder.layer.4.output.dense.bias', 'text_model.encoder.layer.11.attention.self.key.weight', 'text_model.encoder.layer.6.output.LayerNorm.bias', 'text_model.encoder.layer.10.attention.output.LayerNorm.bias', 'text_model.encoder.layer.6.output.dense.weight', 'text_model.encoder.layer.11.output.LayerNorm.weight', 'text_model.pooler.dense.bias', 'text_model.encoder.layer.3.output.dense.bias', 'text_model.encoder.layer.2.output.LayerNorm.weight', 'text_model.encoder.layer.8.attention.output.dense.weight', 'text_model.encoder.layer.4.attention.self.key.weight', 'text_model.encoder.layer.11.attention.self.query.weight', 'text_model.encoder.layer.4.attention.self.query.bias', 'text_model.encoder.layer.6.intermediate.dense.bias', 'text_model.encoder.layer.5.attention.self.value.bias', 'text_model.encoder.layer.0.attention.output.dense.bias', 'text_model.encoder.layer.6.attention.self.key.weight', 'text_model.encoder.layer.0.attention.output.LayerNorm.bias', 'text_model.encoder.layer.3.attention.self.value.bias', 'text_model.embeddings.word_embeddings.weight', 'text_model.encoder.layer.1.attention.self.value.bias', 'text_model.encoder.layer.1.attention.output.LayerNorm.weight', 'text_model.encoder.layer.10.output.dense.bias', 'text_model.encoder.layer.0.output.dense.weight', 'text_model.encoder.layer.3.attention.output.LayerNorm.weight', 'text_model.encoder.layer.4.attention.output.LayerNorm.weight', 'text_model.encoder.layer.9.attention.self.key.weight', 'text_model.encoder.layer.3.attention.self.value.weight', 'text_model.encoder.layer.10.attention.self.value.weight', 'text_model.encoder.layer.6.attention.self.query.bias', 'text_projection.linear1.weight', 'text_model.encoder.layer.2.attention.output.dense.bias', 'text_model.encoder.layer.7.output.dense.bias', 'text_model.encoder.layer.11.intermediate.dense.bias', 'text_model.encoder.layer.7.output.LayerNorm.bias', 'text_model.encoder.layer.10.attention.output.LayerNorm.weight', 'text_model.encoder.layer.2.attention.self.key.weight', 'text_model.encoder.layer.6.attention.output.LayerNorm.bias', 'text_model.encoder.layer.8.attention.self.key.bias', 'text_model.encoder.layer.9.attention.self.value.bias', 'text_model.encoder.layer.10.attention.output.dense.weight', 'text_model.encoder.layer.7.attention.self.query.bias', 'text_model.encoder.layer.2.attention.self.query.weight', 'text_model.encoder.layer.0.attention.output.LayerNorm.weight', 'text_model.encoder.layer.9.output.LayerNorm.bias', 'text_model.encoder.layer.2.output.dense.bias', 'text_model.encoder.layer.5.attention.output.dense.bias']\n",
      "- This IS expected if you are initializing T5EncoderModel from the checkpoint of a model trained on another task or with another architecture (e.g. initializing a BertForSequenceClassification model from a BertForPreTraining model).\n",
      "- This IS NOT expected if you are initializing T5EncoderModel from the checkpoint of a model that you expect to be exactly identical (initializing a BertForSequenceClassification model from a BertForSequenceClassification model).\n",
      "Some weights of T5EncoderModel were not initialized from the model checkpoint at cvssp/audioldm-m-full and are newly initialized: ['encoder.block.7.layer.0.layer_norm.weight', 'encoder.block.7.layer.1.DenseReluDense.wi.weight', 'encoder.block.0.layer.1.DenseReluDense.wo.weight', 'encoder.block.9.layer.1.layer_norm.weight', 'encoder.block.11.layer.1.DenseReluDense.wi.weight', 'encoder.block.9.layer.0.SelfAttention.k.weight', 'encoder.block.11.layer.1.layer_norm.weight', 'encoder.block.3.layer.1.DenseReluDense.wi.weight', 'encoder.block.1.layer.1.DenseReluDense.wo.weight', 'encoder.block.3.layer.0.SelfAttention.o.weight', 'encoder.block.11.layer.1.DenseReluDense.wo.weight', 'encoder.block.0.layer.0.SelfAttention.q.weight', 'encoder.block.3.layer.1.DenseReluDense.wo.weight', 'encoder.block.4.layer.0.SelfAttention.v.weight', 'encoder.block.11.layer.0.SelfAttention.k.weight', 'encoder.block.11.layer.0.SelfAttention.q.weight', 'encoder.block.8.layer.0.SelfAttention.v.weight', 'encoder.block.4.layer.0.SelfAttention.o.weight', 'encoder.block.8.layer.1.DenseReluDense.wi.weight', 'encoder.block.6.layer.1.DenseReluDense.wi.weight', 'encoder.block.0.layer.0.layer_norm.weight', 'encoder.block.0.layer.0.SelfAttention.v.weight', 'encoder.block.5.layer.0.SelfAttention.v.weight', 'encoder.block.4.layer.0.SelfAttention.q.weight', 'encoder.block.5.layer.1.DenseReluDense.wi.weight', 'encoder.block.5.layer.1.DenseReluDense.wo.weight', 'encoder.block.9.layer.0.SelfAttention.o.weight', 'encoder.block.2.layer.0.SelfAttention.q.weight', 'encoder.block.3.layer.0.SelfAttention.q.weight', 'encoder.block.7.layer.0.SelfAttention.o.weight', 'encoder.block.2.layer.0.SelfAttention.k.weight', 'encoder.block.11.layer.0.SelfAttention.v.weight', 'encoder.block.0.layer.1.layer_norm.weight', 'encoder.block.1.layer.0.layer_norm.weight', 'encoder.block.6.layer.1.layer_norm.weight', 'encoder.block.2.layer.0.SelfAttention.v.weight', 'encoder.block.1.layer.0.SelfAttention.o.weight', 'encoder.block.9.layer.1.DenseReluDense.wi.weight', 'encoder.final_layer_norm.weight', 'encoder.block.0.layer.0.SelfAttention.k.weight', 'encoder.block.9.layer.0.layer_norm.weight', 'encoder.block.1.layer.0.SelfAttention.q.weight', 'encoder.block.8.layer.0.SelfAttention.k.weight', 'encoder.block.6.layer.0.SelfAttention.v.weight', 'encoder.block.10.layer.0.SelfAttention.v.weight', 'encoder.block.3.layer.0.SelfAttention.v.weight', 'encoder.block.8.layer.0.SelfAttention.q.weight', 'encoder.block.1.layer.0.SelfAttention.v.weight', 'encoder.block.0.layer.0.SelfAttention.relative_attention_bias.weight', 'encoder.block.10.layer.1.DenseReluDense.wi.weight', 'encoder.block.11.layer.0.SelfAttention.o.weight', 'encoder.block.2.layer.1.DenseReluDense.wo.weight', 'encoder.block.5.layer.0.layer_norm.weight', 'encoder.block.6.layer.0.SelfAttention.q.weight', 'shared.weight', 'encoder.block.1.layer.1.layer_norm.weight', 'encoder.block.3.layer.0.layer_norm.weight', 'encoder.block.7.layer.1.layer_norm.weight', 'encoder.block.6.layer.0.layer_norm.weight', 'encoder.block.3.layer.1.layer_norm.weight', 'encoder.block.0.layer.0.SelfAttention.o.weight', 'encoder.block.9.layer.0.SelfAttention.v.weight', 'encoder.block.2.layer.0.layer_norm.weight', 'encoder.block.10.layer.0.layer_norm.weight', 'encoder.block.4.layer.1.DenseReluDense.wo.weight', 'encoder.block.1.layer.1.DenseReluDense.wi.weight', 'encoder.block.5.layer.0.SelfAttention.k.weight', 'encoder.block.4.layer.0.SelfAttention.k.weight', 'encoder.block.8.layer.0.layer_norm.weight', 'encoder.block.10.layer.1.DenseReluDense.wo.weight', 'encoder.block.5.layer.0.SelfAttention.o.weight', 'encoder.block.2.layer.1.DenseReluDense.wi.weight', 'encoder.block.6.layer.1.DenseReluDense.wo.weight', 'encoder.block.2.layer.0.SelfAttention.o.weight', 'encoder.block.9.layer.1.DenseReluDense.wo.weight', 'encoder.block.0.layer.1.DenseReluDense.wi.weight', 'encoder.block.9.layer.0.SelfAttention.q.weight', 'encoder.block.6.layer.0.SelfAttention.k.weight', 'encoder.block.4.layer.1.layer_norm.weight', 'encoder.block.8.layer.1.layer_norm.weight', 'encoder.block.4.layer.1.DenseReluDense.wi.weight', 'encoder.block.7.layer.0.SelfAttention.v.weight', 'encoder.block.10.layer.1.layer_norm.weight', 'encoder.block.10.layer.0.SelfAttention.o.weight', 'encoder.block.5.layer.1.layer_norm.weight', 'encoder.block.7.layer.1.DenseReluDense.wo.weight', 'encoder.block.4.layer.0.layer_norm.weight', 'encoder.block.2.layer.1.layer_norm.weight', 'encoder.block.6.layer.0.SelfAttention.o.weight', 'encoder.block.10.layer.0.SelfAttention.q.weight', 'encoder.block.1.layer.0.SelfAttention.k.weight', 'encoder.block.8.layer.1.DenseReluDense.wo.weight', 'encoder.block.10.layer.0.SelfAttention.k.weight', 'encoder.block.11.layer.0.layer_norm.weight', 'encoder.block.7.layer.0.SelfAttention.k.weight', 'encoder.block.3.layer.0.SelfAttention.k.weight', 'encoder.block.7.layer.0.SelfAttention.q.weight', 'encoder.block.8.layer.0.SelfAttention.o.weight', 'encoder.block.5.layer.0.SelfAttention.q.weight']\n",
      "You should probably TRAIN this model on a down-stream task to be able to use it for predictions and inference.\n"
     ]
    }
   ],
   "source": [
    "\n",
    "tokenizer = AutoTokenizer.from_pretrained(\"cvssp/audioldm-m-full\", model_max_length=512,  subfolder=\"tokenizer\")\n",
    "text_encoder = T5EncoderModel.from_pretrained(\"cvssp/audioldm-m-full\", subfolder=\"text_encoder\")\n",
    "\n",
    "# tokenizer = AutoTokenizer.from_pretrained(\"t5-large\", model_max_length=512)\n",
    "# text_encoder = T5EncoderModel.from_pretrained(\"t5-large\")\n"
   ]
  },
  {
   "cell_type": "code",
   "execution_count": 3,
   "id": "736d4720-9f43-4b49-ac17-c86e89be147f",
   "metadata": {},
   "outputs": [],
   "source": [
    "dataset_json_file = \"/u/li19/data_folder/AudioTaggingDoneRight/egs/audioset/data/datafiles/delta_bal_alpaca_train.json\"\n",
    "\n",
    "bal_audio_conf = \"/u/li19/diffusers_with_dataloader/examples/audio_generation/audio_gen_files/audio_conf_latents-tmp.json\"\n",
    "with open(bal_audio_conf, \"r\") as f:\n",
    "    audio_set_data_file = json.load(f)\n",
    "latent_folder = \"/u/li19/data_folder/AudioTaggingDoneRight/egs/audioset/data/datafiles/bal_latent_raw\"\n",
    "wav_folder = \"/u/li19/data_folder/audioSetAudio/balance_wav\"\n",
    "batch_size = 10\n",
    "sampler=None\n",
    "num_workers = 1"
   ]
  },
  {
   "cell_type": "code",
   "execution_count": 4,
   "id": "d7dd5022-8d10-47db-87c5-29743e6fca1d",
   "metadata": {},
   "outputs": [],
   "source": [
    "dataset = AudiosetDataset(\n",
    "    audio_set_data_file, \n",
    "    latent_folder=latent_folder, \n",
    "    tokenizer=tokenizer, \n",
    "    device=device, \n",
    "    wav_folder=wav_folder,\n",
    "    dtype=torch.float32,\n",
    "    channels=1,\n",
    ")\n",
    "\n",
    "dataloader = torch.utils.data.DataLoader(dataset, batch_size = batch_size, num_workers=num_workers)"
   ]
  },
  {
   "cell_type": "code",
   "execution_count": 22,
   "id": "ffa25f6f-92f0-45c8-bb9e-803fb532bfe9",
   "metadata": {
    "scrolled": true,
    "tags": []
   },
   "outputs": [
    {
     "name": "stdout",
     "output_type": "stream",
     "text": [
      "huggingface/tokenizers: The current process just got forked, after parallelism has already been used. Disabling parallelism to avoid deadlocks...\n",
      "To disable this warning, you can either:\n",
      "\t- Avoid using `tokenizers` before the fork if possible\n",
      "\t- Explicitly set the environment variable TOKENIZERS_PARALLELISM=(true | false)\n",
      "torch.Size([10, 1, 8, 504])\n",
      "torch.Size([10, 512])\n",
      "10\n",
      "tensor([   0,   83,  621,   16, 2686,  150,   89,   16,   10, 7337,  821, 3810,\n",
      "           9,  935,    4, 1437,    2,    1,    1,    1,    1,    1,    1,    1,\n",
      "           1,    1,    1,    1,    1,    1,    1,    1,    1,    1,    1,    1,\n",
      "           1,    1,    1,    1,    1,    1,    1,    1,    1,    1,    1,    1,\n",
      "           1,    1,    1,    1,    1,    1,    1,    1,    1,    1,    1,    1,\n",
      "           1,    1,    1,    1,    1,    1,    1,    1,    1,    1,    1,    1,\n",
      "           1,    1,    1,    1,    1,    1,    1,    1,    1,    1,    1,    1,\n",
      "           1,    1,    1,    1,    1,    1,    1,    1,    1,    1,    1,    1,\n",
      "           1,    1,    1,    1,    1,    1,    1,    1,    1,    1,    1,    1,\n",
      "           1,    1,    1,    1,    1,    1,    1,    1,    1,    1,    1,    1,\n",
      "           1,    1,    1,    1,    1,    1,    1,    1,    1,    1,    1,    1,\n",
      "           1,    1,    1,    1,    1,    1,    1,    1,    1,    1,    1,    1,\n",
      "           1,    1,    1,    1,    1,    1,    1,    1,    1,    1,    1,    1,\n",
      "           1,    1,    1,    1,    1,    1,    1,    1,    1,    1,    1,    1,\n",
      "           1,    1,    1,    1,    1,    1,    1,    1,    1,    1,    1,    1,\n",
      "           1,    1,    1,    1,    1,    1,    1,    1,    1,    1,    1,    1,\n",
      "           1,    1,    1,    1,    1,    1,    1,    1,    1,    1,    1,    1,\n",
      "           1,    1,    1,    1,    1,    1,    1,    1,    1,    1,    1,    1,\n",
      "           1,    1,    1,    1,    1,    1,    1,    1,    1,    1,    1,    1,\n",
      "           1,    1,    1,    1,    1,    1,    1,    1,    1,    1,    1,    1,\n",
      "           1,    1,    1,    1,    1,    1,    1,    1,    1,    1,    1,    1,\n",
      "           1,    1,    1,    1,    1,    1,    1,    1,    1,    1,    1,    1,\n",
      "           1,    1,    1,    1,    1,    1,    1,    1,    1,    1,    1,    1,\n",
      "           1,    1,    1,    1,    1,    1,    1,    1,    1,    1,    1,    1,\n",
      "           1,    1,    1,    1,    1,    1,    1,    1,    1,    1,    1,    1,\n",
      "           1,    1,    1,    1,    1,    1,    1,    1,    1,    1,    1,    1,\n",
      "           1,    1,    1,    1,    1,    1,    1,    1,    1,    1,    1,    1,\n",
      "           1,    1,    1,    1,    1,    1,    1,    1,    1,    1,    1,    1,\n",
      "           1,    1,    1,    1,    1,    1,    1,    1,    1,    1,    1,    1,\n",
      "           1,    1,    1,    1,    1,    1,    1,    1,    1,    1,    1,    1,\n",
      "           1,    1,    1,    1,    1,    1,    1,    1,    1,    1,    1,    1,\n",
      "           1,    1,    1,    1,    1,    1,    1,    1,    1,    1,    1,    1,\n",
      "           1,    1,    1,    1,    1,    1,    1,    1,    1,    1,    1,    1,\n",
      "           1,    1,    1,    1,    1,    1,    1,    1,    1,    1,    1,    1,\n",
      "           1,    1,    1,    1,    1,    1,    1,    1,    1,    1,    1,    1,\n",
      "           1,    1,    1,    1,    1,    1,    1,    1,    1,    1,    1,    1,\n",
      "           1,    1,    1,    1,    1,    1,    1,    1,    1,    1,    1,    1,\n",
      "           1,    1,    1,    1,    1,    1,    1,    1,    1,    1,    1,    1,\n",
      "           1,    1,    1,    1,    1,    1,    1,    1,    1,    1,    1,    1,\n",
      "           1,    1,    1,    1,    1,    1,    1,    1,    1,    1,    1,    1,\n",
      "           1,    1,    1,    1,    1,    1,    1,    1,    1,    1,    1,    1,\n",
      "           1,    1,    1,    1,    1,    1,    1,    1,    1,    1,    1,    1,\n",
      "           1,    1,    1,    1,    1,    1,    1,    1])\n",
      "tokens:  tensor([   0,   83,  621,   16, 2686,  150,   89,   16,   10, 7337,  821, 3810,\n",
      "           9,  935,    4, 1437,    2,    1,    1,    1,    1,    1,    1,    1,\n",
      "           1,    1,    1,    1,    1,    1,    1,    1,    1,    1,    1,    1,\n",
      "           1,    1,    1,    1,    1,    1,    1,    1,    1,    1,    1,    1,\n",
      "           1,    1,    1,    1,    1,    1,    1,    1,    1,    1,    1,    1,\n",
      "           1,    1,    1,    1,    1,    1,    1,    1,    1,    1,    1,    1,\n",
      "           1,    1,    1,    1,    1,    1,    1,    1,    1,    1,    1,    1,\n",
      "           1,    1,    1,    1,    1,    1,    1,    1,    1,    1,    1,    1,\n",
      "           1,    1,    1,    1,    1,    1,    1,    1,    1,    1,    1,    1,\n",
      "           1,    1,    1,    1,    1,    1,    1,    1,    1,    1,    1,    1,\n",
      "           1,    1,    1,    1,    1,    1,    1,    1,    1,    1,    1,    1,\n",
      "           1,    1,    1,    1,    1,    1,    1,    1,    1,    1,    1,    1,\n",
      "           1,    1,    1,    1,    1,    1,    1,    1,    1,    1,    1,    1,\n",
      "           1,    1,    1,    1,    1,    1,    1,    1,    1,    1,    1,    1,\n",
      "           1,    1,    1,    1,    1,    1,    1,    1,    1,    1,    1,    1,\n",
      "           1,    1,    1,    1,    1,    1,    1,    1,    1,    1,    1,    1,\n",
      "           1,    1,    1,    1,    1,    1,    1,    1,    1,    1,    1,    1,\n",
      "           1,    1,    1,    1,    1,    1,    1,    1,    1,    1,    1,    1,\n",
      "           1,    1,    1,    1,    1,    1,    1,    1,    1,    1,    1,    1,\n",
      "           1,    1,    1,    1,    1,    1,    1,    1,    1,    1,    1,    1,\n",
      "           1,    1,    1,    1,    1,    1,    1,    1,    1,    1,    1,    1,\n",
      "           1,    1,    1,    1,    1,    1,    1,    1,    1,    1,    1,    1,\n",
      "           1,    1,    1,    1,    1,    1,    1,    1,    1,    1,    1,    1,\n",
      "           1,    1,    1,    1,    1,    1,    1,    1,    1,    1,    1,    1,\n",
      "           1,    1,    1,    1,    1,    1,    1,    1,    1,    1,    1,    1,\n",
      "           1,    1,    1,    1,    1,    1,    1,    1,    1,    1,    1,    1,\n",
      "           1,    1,    1,    1,    1,    1,    1,    1,    1,    1,    1,    1,\n",
      "           1,    1,    1,    1,    1,    1,    1,    1,    1,    1,    1,    1,\n",
      "           1,    1,    1,    1,    1,    1,    1,    1,    1,    1,    1,    1,\n",
      "           1,    1,    1,    1,    1,    1,    1,    1,    1,    1,    1,    1,\n",
      "           1,    1,    1,    1,    1,    1,    1,    1,    1,    1,    1,    1,\n",
      "           1,    1,    1,    1,    1,    1,    1,    1,    1,    1,    1,    1,\n",
      "           1,    1,    1,    1,    1,    1,    1,    1,    1,    1,    1,    1,\n",
      "           1,    1,    1,    1,    1,    1,    1,    1,    1,    1,    1,    1,\n",
      "           1,    1,    1,    1,    1,    1,    1,    1,    1,    1,    1,    1,\n",
      "           1,    1,    1,    1,    1,    1,    1,    1,    1,    1,    1,    1,\n",
      "           1,    1,    1,    1,    1,    1,    1,    1,    1,    1,    1,    1,\n",
      "           1,    1,    1,    1,    1,    1,    1,    1,    1,    1,    1,    1,\n",
      "           1,    1,    1,    1,    1,    1,    1,    1,    1,    1,    1,    1,\n",
      "           1,    1,    1,    1,    1,    1,    1,    1,    1,    1,    1,    1,\n",
      "           1,    1,    1,    1,    1,    1,    1,    1,    1,    1,    1,    1,\n",
      "           1,    1,    1,    1,    1,    1,    1,    1,    1,    1,    1,    1,\n",
      "           1,    1,    1,    1,    1,    1,    1,    1], dtype=torch.int32)\n",
      "torch.Size([10, 512, 768])\n"
     ]
    }
   ],
   "source": [
    "for step, batch in enumerate(dataloader):\n",
    "    if step > 0:\n",
    "        break\n",
    "    print(batch['latent'].shape)\n",
    "    # print(batch)\n",
    "    print(batch['input_ids'].shape)\n",
    "    print(len(batch['caption']))\n",
    "    label = batch['caption'][0]\n",
    "    encoder_hidden_states = text_encoder(batch[\"input_ids\"])[0]\n",
    "    input_ids = []\n",
    "    input_ids = tokenizer(\n",
    "        [label], max_length=tokenizer.model_max_length, padding=\"max_length\", truncation=True, return_tensors=\"pt\"\n",
    "    )\n",
    "    input_ids = input_ids.input_ids[0]\n",
    "    print(input_ids)\n",
    "    print('tokens: ', batch['input_ids'][0])\n",
    "    print(encoder_hidden_states.shape)\n",
    "    # print(encoder_hidden_states)"
   ]
  },
  {
   "cell_type": "code",
   "execution_count": null,
   "id": "93522a45-151a-4199-bcc1-9ec357710e49",
   "metadata": {},
   "outputs": [],
   "source": []
  },
  {
   "cell_type": "code",
   "execution_count": null,
   "id": "b4cff667-fb31-42a3-9dc8-3d5fcca8a8ac",
   "metadata": {},
   "outputs": [],
   "source": [
    "\n",
    "train_dataloader = torch.utils.data.DataLoader( \n",
    "        AudiosetDataset(data, tokenizer=tokenizer, device=accelerator.device, dtype=weight_dtype, logger=logger, channels=1),\n",
    "        batch_size=args.train_batch_size, sampler=sampler, num_workers=args.dataloader_num_workers, shuffle=True)\n"
   ]
  },
  {
   "cell_type": "code",
   "execution_count": 2,
   "id": "17629c88-b621-443f-b82f-4acf11af3436",
   "metadata": {},
   "outputs": [
    {
     "name": "stderr",
     "output_type": "stream",
     "text": [
      "/u/li19/data_folder/anaconda3/envs/diffuse/lib/python3.10/site-packages/transformers/models/clip/feature_extraction_clip.py:28: FutureWarning: The class CLIPFeatureExtractor is deprecated and will be removed in version 5 of Transformers. Please use CLIPImageProcessor instead.\n",
      "  warnings.warn(\n",
      "You have disabled the safety checker for <class 'diffusers.pipelines.stable_diffusion.pipeline_stable_diffusion.StableDiffusionPipeline'> by passing `safety_checker=None`. Ensure that you abide to the conditions of the Stable Diffusion license and do not expose unfiltered results in services or applications open to the public. Both the diffusers team and Hugging Face strongly recommend to keep the safety filter enabled in all public facing circumstances, disabling it only for use-cases that involve analyzing network behavior or auditing its results. For more information, please have a look at https://github.com/huggingface/diffusers/pull/254 .\n"
     ]
    },
    {
     "data": {
      "text/plain": [
       "StableDiffusionPipeline {\n",
       "  \"_class_name\": \"StableDiffusionPipeline\",\n",
       "  \"_diffusers_version\": \"0.15.1\",\n",
       "  \"feature_extractor\": [\n",
       "    \"transformers\",\n",
       "    \"CLIPFeatureExtractor\"\n",
       "  ],\n",
       "  \"requires_safety_checker\": true,\n",
       "  \"safety_checker\": [\n",
       "    null,\n",
       "    null\n",
       "  ],\n",
       "  \"scheduler\": [\n",
       "    \"diffusers\",\n",
       "    \"PNDMScheduler\"\n",
       "  ],\n",
       "  \"text_encoder\": [\n",
       "    \"transformers\",\n",
       "    \"CLIPTextModel\"\n",
       "  ],\n",
       "  \"tokenizer\": [\n",
       "    \"transformers\",\n",
       "    \"CLIPTokenizer\"\n",
       "  ],\n",
       "  \"unet\": [\n",
       "    \"diffusers\",\n",
       "    \"UNet2DConditionModel\"\n",
       "  ],\n",
       "  \"vae\": [\n",
       "    \"diffusers\",\n",
       "    \"AutoencoderKL\"\n",
       "  ]\n",
       "}"
      ]
     },
     "execution_count": 2,
     "metadata": {},
     "output_type": "execute_result"
    }
   ],
   "source": [
    "model_path = \"CompVis/stable-diffusion-v1-4\"\n",
    "pipe = StableDiffusionPipeline.from_pretrained(model_path, device_map=None, safety_checker=None)\n",
    "pipe.to(device)\n",
    "\n"
   ]
  },
  {
   "cell_type": "code",
   "execution_count": 3,
   "id": "4065b0f0-c9a5-4b9e-895c-8de74db6072e",
   "metadata": {},
   "outputs": [],
   "source": [
    "dataset_json_file = \"/u/li19/data_folder/AudioTaggingDoneRight/egs/audioset/data/datafiles/delta_bal_alpaca_train.json\"\n",
    "latent_folder = \"/u/li19/data_folder/AudioTaggingDoneRight/egs/audioset/data/datafiles/bal_latent_raw\"\n",
    "wav_folder = \"/u/li19/data_folder/audioSetAudio/balance_wav\"\n",
    "tokenizer = CLIPTokenizer.from_pretrained(\n",
    "\"CompVis/stable-diffusion-v1-4\", subfolder=\"tokenizer\"\n",
    "    )\n",
    "\n",
    "dataset = AudiosetDataset(\n",
    "    dataset_json_file, \n",
    "    latent_folder=latent_folder, \n",
    "    tokenizer=tokenizer, \n",
    "    device=device, \n",
    "    wav_folder=wav_folder,\n",
    "    dtype=torch.float32,\n",
    "    channels=4\n",
    ")\n",
    "\n",
    "dataloader = torch.utils.data.DataLoader(dataset)"
   ]
  },
  {
   "cell_type": "code",
   "execution_count": 4,
   "id": "f566ab2b-c612-4c12-861f-4ecfb6c4bbd0",
   "metadata": {},
   "outputs": [
    {
     "name": "stdout",
     "output_type": "stream",
     "text": [
      "torch.Size([4, 8, 504])\n"
     ]
    }
   ],
   "source": [
    "sample = dataset[0]\n",
    "latent = sample[\"latent\"]\n",
    "print(latent.shape)"
   ]
  },
  {
   "cell_type": "code",
   "execution_count": 5,
   "id": "6825bb8b-37e6-4103-a14e-6ebfb279b03e",
   "metadata": {},
   "outputs": [
    {
     "name": "stdout",
     "output_type": "stream",
     "text": [
      "torch.Size([6, 1, 8, 504])\n",
      "torch.Size([6, 8, 21, 24])\n",
      "torch.Size([6])\n",
      "torch.Size([6, 77, 768])\n"
     ]
    }
   ],
   "source": [
    "n = 6\n",
    "\n",
    "og_noise = torch.randn([n, 1, 8, 504]).to(device)\n",
    "\n",
    "noise = torch.randn((n, 8, 21, 24)).to(device)\n",
    "\n",
    "t_steps= torch.randn([n]).to(device)\n",
    "\n",
    "fake_embeds = torch.randn([n, 77, 768]).to(device)\n",
    "\n",
    "\n",
    "\n",
    "print(og_noise.shape)\n",
    "print(noise.shape)\n",
    "print(t_steps.shape)\n",
    "print(fake_embeds.shape)"
   ]
  },
  {
   "cell_type": "code",
   "execution_count": 7,
   "id": "19ad6056-a03e-43f6-a10d-d01cb0d25903",
   "metadata": {},
   "outputs": [
    {
     "name": "stdout",
     "output_type": "stream",
     "text": [
      "INPUT: torch.Size([6, 1, 8, 504])\n",
      "PRE_FIRST_CONV: torch.Size([6, 8, 21, 24])\n",
      "POST_FIRST_CONV: torch.Size([6, 320, 21, 24])\n",
      "DOWN:  torch.Size([6, 320, 11, 12])\n",
      "DOWN:  torch.Size([6, 640, 6, 6])\n",
      "DOWN:  torch.Size([6, 1280, 3, 3])\n",
      "DOWN:  torch.Size([6, 1280, 3, 3])\n",
      "MID:  torch.Size([6, 1280, 3, 3])\n",
      "UP:  torch.Size([6, 1280, 6, 6])\n",
      "UP:  torch.Size([6, 1280, 11, 12])\n",
      "UP:  torch.Size([6, 640, 21, 24])\n",
      "UP:  torch.Size([6, 320, 21, 24])\n"
     ]
    },
    {
     "data": {
      "text/plain": [
       "torch.Size([6, 1, 8, 504])"
      ]
     },
     "execution_count": 7,
     "metadata": {},
     "output_type": "execute_result"
    }
   ],
   "source": [
    "#Testing if our reshape works in the unet\n",
    "\n",
    "\n",
    "og_recon = pipe.unet(og_noise, t_steps, fake_embeds).sample\n",
    "og_recon.shape"
   ]
  },
  {
   "cell_type": "code",
   "execution_count": null,
   "id": "0de24980-6666-46d3-9c0a-e4e11442156a",
   "metadata": {},
   "outputs": [],
   "source": []
  },
  {
   "cell_type": "code",
   "execution_count": 6,
   "id": "2233f47f-0b62-4fb0-bfc7-ae20baf7690e",
   "metadata": {},
   "outputs": [],
   "source": [
    "new_conv = torch.nn.Conv2d(8, 320, kernel_size=(3, 3), stride=(1, 1), padding=(1, 1)).to(device)\n",
    "\n",
    "conv_out_kernel = 3\n",
    "conv_out_padding = (conv_out_kernel - 1) // 2\n",
    "new_conv_out = torch.nn.Conv2d(320, 8, kernel_size=conv_out_kernel, padding=conv_out_padding).to(device)\n",
    "\n",
    "pipe.unet.conv_in = new_conv\n",
    "pipe.unet.conv_out = new_conv_out"
   ]
  },
  {
   "cell_type": "code",
   "execution_count": 8,
   "id": "f4d35bf1-79b1-4a3f-8efc-f85fef2bdead",
   "metadata": {},
   "outputs": [
    {
     "name": "stdout",
     "output_type": "stream",
     "text": [
      "PRE_FIRST_CONV: torch.Size([6, 8, 21, 24])\n",
      "POST_FIRST_CONV: torch.Size([6, 320, 21, 24])\n",
      "DOWN:  torch.Size([6, 320, 11, 12])\n",
      "DOWN:  torch.Size([6, 640, 6, 6])\n",
      "DOWN:  torch.Size([6, 1280, 3, 3])\n",
      "DOWN:  torch.Size([6, 1280, 3, 3])\n",
      "MID:  torch.Size([6, 1280, 3, 3])\n",
      "UP:  torch.Size([6, 1280, 6, 6])\n",
      "UP:  torch.Size([6, 1280, 11, 12])\n",
      "UP:  torch.Size([6, 640, 21, 24])\n",
      "UP:  torch.Size([6, 320, 21, 24])\n",
      "OUT:  torch.Size([6, 8, 21, 24])\n"
     ]
    }
   ],
   "source": [
    "new_recon = pipe.unet(noise, t_steps, fake_embeds)"
   ]
  },
  {
   "cell_type": "code",
   "execution_count": 13,
   "id": "cce1263c-4aff-453d-ba13-98f6b4dc2545",
   "metadata": {},
   "outputs": [
    {
     "name": "stderr",
     "output_type": "stream",
     "text": [
      "You have disabled the safety checker for <class 'diffusers.pipelines.stable_diffusion.pipeline_stable_diffusion.StableDiffusionPipeline'> by passing `safety_checker=None`. Ensure that you abide to the conditions of the Stable Diffusion license and do not expose unfiltered results in services or applications open to the public. Both the diffusers team and Hugging Face strongly recommend to keep the safety filter enabled in all public facing circumstances, disabling it only for use-cases that involve analyzing network behavior or auditing its results. For more information, please have a look at https://github.com/huggingface/diffusers/pull/254 .\n"
     ]
    },
    {
     "name": "stdout",
     "output_type": "stream",
     "text": [
      "BIAS - FROM:  torch.Size([320]) TO:  torch.Size([320])\n",
      "FROM:  torch.Size([320, 4, 3, 3]) TO:  torch.Size([320, 8, 3, 3]) WITH:  torch.Size([320, 8, 3, 3])\n",
      "BIAS - FROM:  torch.Size([4]) TO:  torch.Size([8])\n",
      "FROM:  torch.Size([4, 320, 3, 3]) TO:  torch.Size([8, 320, 3, 3]) WITH:  torch.Size([8, 320, 3, 3])\n"
     ]
    }
   ],
   "source": [
    "def copy_weights(source, dest, channel=1):\n",
    "    # Get the weights and biases from the smaller convolutional layer\n",
    "    source_weights = source.state_dict()['weight']\n",
    "    source_biases = source.state_dict()['bias']\n",
    "\n",
    "    dest_weights = dest.state_dict()['weight']\n",
    "    dest_biases = dest.state_dict()['bias']\n",
    "    \n",
    "    # Here, we duplicate the weights along the input channels dimension\n",
    "    dest_weights_new = torch.cat((source_weights, source_weights), dim=channel)\n",
    "    if (channel != 1):\n",
    "        dest_bias_new = torch.cat((source_biases, source_biases))\n",
    "    else:\n",
    "        dest_bias_new = source_biases\n",
    "    \n",
    "    print(\"BIAS - FROM: \", source_biases.shape, \"TO: \", dest_biases.shape)\n",
    "    print(\"FROM: \", source_weights.shape, \"TO: \", dest_weights.shape, \"WITH: \", dest_weights_new.shape)\n",
    "    \n",
    "    \n",
    "    dest.load_state_dict({'weight': dest_weights_new, 'bias': dest_bias_new})\n",
    "    return dest\n",
    "\n",
    "model_path = \"CompVis/stable-diffusion-v1-4\"\n",
    "pipe = StableDiffusionPipeline.from_pretrained(model_path, device_map=None, safety_checker=None)\n",
    "\n",
    "\n",
    "small_conv_in = pipe.unet.conv_in\n",
    "large_conv_in = torch.nn.Conv2d(8, 320, kernel_size=(3, 3), stride=(1, 1), padding=(1, 1))\n",
    "\n",
    "\n",
    "small_conv_out = pipe.unet.conv_out\n",
    "\n",
    "conv_out_kernel = 3\n",
    "conv_out_padding = (conv_out_kernel - 1) // 2\n",
    "large_conv_out = torch.nn.Conv2d(320, 8, kernel_size=conv_out_kernel, padding=conv_out_padding)\n",
    "\n",
    "large_conv_in = copy_weights(small_conv_in, large_conv_in)\n",
    "large_conv_out = copy_weights(small_conv_out, large_conv_out, 0)"
   ]
  },
  {
   "cell_type": "code",
   "execution_count": 14,
   "id": "92c1a01d-ab6e-44b7-91c2-05d32709ad1f",
   "metadata": {},
   "outputs": [],
   "source": [
    "pipe.unet.conv_in = large_conv_in\n",
    "pipe.unet.conv_out = large_conv_out"
   ]
  },
  {
   "cell_type": "code",
   "execution_count": 16,
   "id": "1957ff46-909f-4c1c-801e-4d9a03dec4d0",
   "metadata": {},
   "outputs": [],
   "source": [
    "pipe.save_pretrained(\"/u/li19/data_folder/model_cache/audio_journey\")"
   ]
  },
  {
   "cell_type": "code",
   "execution_count": null,
   "id": "169a95b0-8fbb-4390-8439-53403392b769",
   "metadata": {},
   "outputs": [],
   "source": []
  },
  {
   "cell_type": "code",
   "execution_count": 4,
   "id": "2615fc97-d569-42d3-bff5-5ddcd4b4b97d",
   "metadata": {},
   "outputs": [
    {
     "name": "stderr",
     "output_type": "stream",
     "text": [
      "You have disabled the safety checker for <class 'diffusers.pipelines.stable_diffusion.pipeline_stable_diffusion.StableDiffusionPipeline'> by passing `safety_checker=None`. Ensure that you abide to the conditions of the Stable Diffusion license and do not expose unfiltered results in services or applications open to the public. Both the diffusers team and Hugging Face strongly recommend to keep the safety filter enabled in all public facing circumstances, disabling it only for use-cases that involve analyzing network behavior or auditing its results. For more information, please have a look at https://github.com/huggingface/diffusers/pull/254 .\n"
     ]
    },
    {
     "data": {
      "text/plain": [
       "StableDiffusionPipeline {\n",
       "  \"_class_name\": \"StableDiffusionPipeline\",\n",
       "  \"_diffusers_version\": \"0.15.1\",\n",
       "  \"feature_extractor\": [\n",
       "    \"transformers\",\n",
       "    \"CLIPFeatureExtractor\"\n",
       "  ],\n",
       "  \"requires_safety_checker\": true,\n",
       "  \"safety_checker\": [\n",
       "    null,\n",
       "    null\n",
       "  ],\n",
       "  \"scheduler\": [\n",
       "    \"diffusers\",\n",
       "    \"PNDMScheduler\"\n",
       "  ],\n",
       "  \"text_encoder\": [\n",
       "    \"transformers\",\n",
       "    \"CLIPTextModel\"\n",
       "  ],\n",
       "  \"tokenizer\": [\n",
       "    \"transformers\",\n",
       "    \"CLIPTokenizer\"\n",
       "  ],\n",
       "  \"unet\": [\n",
       "    \"diffusers\",\n",
       "    \"UNet2DConditionModel\"\n",
       "  ],\n",
       "  \"vae\": [\n",
       "    \"diffusers\",\n",
       "    \"AutoencoderKL\"\n",
       "  ]\n",
       "}"
      ]
     },
     "execution_count": 4,
     "metadata": {},
     "output_type": "execute_result"
    }
   ],
   "source": [
    "model_path = \"/u/li19/data_folder/model_cache/audio_journey\"\n",
    "pipe = StableDiffusionPipeline.from_pretrained(model_path, device_map=None, safety_checker=None)\n",
    "pipe.to(\"cuda\")\n"
   ]
  },
  {
   "cell_type": "code",
   "execution_count": 5,
   "id": "1601e9ed-34ca-4969-b38b-8a929d7b98ba",
   "metadata": {},
   "outputs": [
    {
     "data": {
      "application/vnd.jupyter.widget-view+json": {
       "model_id": "1a21d1e0f1d94813a56f5d534fbbdfa0",
       "version_major": 2,
       "version_minor": 0
      },
      "text/plain": [
       "  0%|          | 0/400 [00:00<?, ?it/s]"
      ]
     },
     "metadata": {},
     "output_type": "display_data"
    }
   ],
   "source": [
    "gen = pipe(prompt=\"idk whatever it does not matter\", width=504, height=8, num_inference_steps=400, output_type=\"latent\").images[0]"
   ]
  },
  {
   "cell_type": "code",
   "execution_count": 11,
   "id": "58b28614-1582-4260-8590-3e325d010233",
   "metadata": {},
   "outputs": [
    {
     "name": "stdout",
     "output_type": "stream",
     "text": [
      "torch.Size([1, 8, 504])\n"
     ]
    },
    {
     "data": {
      "text/plain": [
       "<matplotlib.image.AxesImage at 0x7f396e268640>"
      ]
     },
     "execution_count": 11,
     "metadata": {},
     "output_type": "execute_result"
    },
    {
     "data": {
      "image/png": "[encoded data removed]",
      "text/plain": [
       "<Figure size 640x480 with 1 Axes>"
      ]
     },
     "metadata": {},
     "output_type": "display_data"
    }
   ],
   "source": [
    "print(gen.shape)\n",
    "\n",
    "plt.imshow(gen[0, :, :200].cpu().numpy())"
   ]
  },
  {
   "cell_type": "code",
   "execution_count": 20,
   "id": "7a348bb5-9005-49de-9e07-27198fb9760e",
   "metadata": {},
   "outputs": [
    {
     "name": "stdout",
     "output_type": "stream",
     "text": [
      "SMALL - weights: torch.Size([320, 4, 3, 3]), biases: torch.Size([320])\n",
      "LARGE - weights: torch.Size([320, 8, 3, 3]), biases: torch.Size([320])\n"
     ]
    }
   ],
   "source": [
    "# Get the weights and biases from the smaller convolutional layer\n",
    "small_weights = small_conv.state_dict()['weight']\n",
    "small_biases = small_conv.state_dict()['bias']\n",
    "\n",
    "large_weights = large_conv.state_dict()['weight']\n",
    "large_biases = large_conv.state_dict()['bias']\n",
    "\n",
    "\n",
    "print(f'SMALL - weights: {small_weights.shape}, biases: {small_biases.shape}')\n",
    "\n",
    "print(f'LARGE - weights: {large_weights.shape}, biases: {large_biases.shape}')"
   ]
  },
  {
   "cell_type": "code",
   "execution_count": 21,
   "id": "28d29312-096f-4466-80ec-3d281ae608e0",
   "metadata": {},
   "outputs": [
    {
     "data": {
      "text/plain": [
       "torch.Size([320, 8, 3, 3])"
      ]
     },
     "execution_count": 21,
     "metadata": {},
     "output_type": "execute_result"
    }
   ],
   "source": [
    "\n",
    "\n",
    "# Modify the weights to match the shape of the larger convolutional layer\n",
    "# Here, we duplicate the weights along the input channels dimension\n",
    "large_weights_new = torch.cat((small_weights, small_weights), dim=1)\n",
    "large_weights_new.shape"
   ]
  },
  {
   "cell_type": "code",
   "execution_count": null,
   "id": "8b5e987f-1c98-4ecc-ae24-634db7438d75",
   "metadata": {},
   "outputs": [],
   "source": [
    "\n",
    "# Load the modified weights and biases into the larger convolutional layer\n",
    "large_conv.load_state_dict({'weight': large_weights_new, 'bias': small_biases})"
   ]
  },
  {
   "cell_type": "code",
   "execution_count": 22,
   "id": "7430b7f7-2fed-4f0d-87f3-894e4c7b0fb6",
   "metadata": {},
   "outputs": [],
   "source": [
    "rand_in = torch.randn([1, 8, 504])\n",
    "reshaped = torch.Tensor.view(rand_in, [1, 8, 21, 24])\n",
    "recon = torch.Tensor.view(reshaped, [1, 8, 504])"
   ]
  },
  {
   "cell_type": "code",
   "execution_count": 23,
   "id": "6ce2fd37-d4ba-4adc-8754-b05e368dd064",
   "metadata": {},
   "outputs": [
    {
     "name": "stdout",
     "output_type": "stream",
     "text": [
      "torch.Size([1, 8, 504])\n",
      "torch.Size([1, 8, 21, 24])\n",
      "torch.Size([1, 8, 504])\n"
     ]
    }
   ],
   "source": [
    "print(rand_in.shape)\n",
    "print(reshaped.shape)\n",
    "print(recon.shape)"
   ]
  },
  {
   "cell_type": "code",
   "execution_count": 25,
   "id": "c4fe1394-86be-468c-9c93-bf0a01ed051c",
   "metadata": {},
   "outputs": [
    {
     "data": {
      "text/plain": [
       "tensor(True)"
      ]
     },
     "execution_count": 25,
     "metadata": {},
     "output_type": "execute_result"
    }
   ],
   "source": [
    "torch.all(rand_in.eq(recon))"
   ]
  },
  {
   "cell_type": "code",
   "execution_count": null,
   "id": "2d63a288-d814-407b-8b8b-408736c76f71",
   "metadata": {},
   "outputs": [],
   "source": []
  }
 ],
 "metadata": {
  "kernelspec": {
   "display_name": "diffuse",
   "language": "python",
   "name": "diffuse"
  },
  "language_info": {
   "codemirror_mode": {
    "name": "ipython",
    "version": 3
   },
   "file_extension": ".py",
   "mimetype": "text/x-python",
   "name": "python",
   "nbconvert_exporter": "python",
   "pygments_lexer": "ipython3",
   "version": "3.10.11"
  }
 },
 "nbformat": 4,
 "nbformat_minor": 5
}
