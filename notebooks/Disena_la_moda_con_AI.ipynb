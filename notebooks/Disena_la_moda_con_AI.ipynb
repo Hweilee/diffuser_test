{
 "cells": [
  {
   "cell_type": "markdown",
   "id": "0b672958",
   "metadata": {},
   "source": [
    "# Design fashion using AI (Diseña la moda con AI)"
   ]
  },
  {
   "cell_type": "markdown",
   "id": "dc24704f",
   "metadata": {},
   "source": [
    "Pupose of this notebook is fine tunning a difussion model in order to use fashion related promts, so it could generate fashion detailed images"
   ]
  },
  {
   "cell_type": "code",
   "execution_count": null,
   "id": "92cb260b",
   "metadata": {},
   "outputs": [],
   "source": []
  }
 ],
 "metadata": {
  "kernelspec": {
   "display_name": "Python 3 (ipykernel)",
   "language": "python",
   "name": "python3"
  },
  "language_info": {
   "codemirror_mode": {
    "name": "ipython",
    "version": 3
   },
   "file_extension": ".py",
   "mimetype": "text/x-python",
   "name": "python",
   "nbconvert_exporter": "python",
   "pygments_lexer": "ipython3",
   "version": "3.9.11"
  }
 },
 "nbformat": 4,
 "nbformat_minor": 5
}
