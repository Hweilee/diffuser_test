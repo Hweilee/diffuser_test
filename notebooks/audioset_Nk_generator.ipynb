{
 "cells": [
  {
   "cell_type": "code",
   "execution_count": 2,
   "id": "cde79cdc-3f1d-46bd-a132-066957226f73",
   "metadata": {},
   "outputs": [],
   "source": [
    "import os\n",
    "import json\n",
    "import pandas as pd\n",
    "from tqdm import tqdm\n",
    "import IPython.display as ipd\n",
    "from torchaudio import load\n",
    "import matplotlib.pyplot as plt\n"
   ]
  },
  {
   "cell_type": "code",
   "execution_count": 3,
   "id": "7edb8b65-cc13-4db0-a6de-dca1879ae526",
   "metadata": {},
   "outputs": [],
   "source": [
    "def play_wav(path):\n",
    "    wav, sr = load(path)\n",
    "    print(path)\n",
    "    ipd.Audio(wav, rate=sr)"
   ]
  },
  {
   "cell_type": "code",
   "execution_count": 4,
   "id": "1f0db2d8-bcec-45c1-91fc-92e5d90a3e15",
   "metadata": {},
   "outputs": [],
   "source": [
    "sample_template = {\n",
    "   \"wav\": \"/u/li19/data_folder/audioSetAudio/balance_wav/--PJHxphWEs.wav\",\n",
    "   \"labels\": \"/m/09x0r,/t/dd00088\"\n",
    "  }"
   ]
  },
  {
   "cell_type": "code",
   "execution_count": 5,
   "id": "25a62ac6-dcb8-40bc-9ee8-98ac322e245f",
   "metadata": {},
   "outputs": [
    {
     "name": "stdout",
     "output_type": "stream",
     "text": [
      "Reading Data\n",
      "     index         mid                   display_name\n",
      "0        0    /m/09x0r                         Speech\n",
      "1        1   /m/05zppz      Male speech, man speaking\n",
      "2        2    /m/02zsn  Female speech, woman speaking\n",
      "3        3    /m/0ytgt     Child speech, kid speaking\n",
      "4        4   /m/01h8n0                   Conversation\n",
      "..     ...         ...                            ...\n",
      "522    522  /m/07p_0gm                      Throbbing\n",
      "523    523   /m/01jwx6                      Vibration\n",
      "524    524    /m/07c52                     Television\n",
      "525    525    /m/06bz3                          Radio\n",
      "526    526   /m/07hvw1                Field recording\n",
      "\n",
      "[527 rows x 3 columns]\n"
     ]
    }
   ],
   "source": [
    "base_file = \"/u/li19/data_folder/AudioTaggingDoneRight/egs/audioset/data/datafiles/audioset_bal_train_data.json\"\n",
    "print(\"Reading Data\")\n",
    "with open(base_file, 'r') as f:\n",
    "    base_data = json.load(f)\n",
    "class_file_path = \"/u/li19/data_folder/AudioTaggingDoneRight/egs/audioset/data/class_labels_indices.csv\"\n",
    "df = pd.read_csv(class_file_path)\n",
    "class_names = df[\"display_name\"]\n",
    "class_codes = df[\"mid\"]\n",
    "print(df)\n"
   ]
  },
  {
   "cell_type": "code",
   "execution_count": 9,
   "id": "3610994c-bae1-4ab3-b360-1f931e5156e2",
   "metadata": {},
   "outputs": [],
   "source": [
    "def get_data(new_path):\n",
    "    gen_files = os.listdir(new_path)\n",
    "    gen_data = []\n",
    "    for i in tqdm(range(len(gen_files))):\n",
    "        file = gen_files[i]\n",
    "        f_path = os.path.join(new_path, file)\n",
    "        idxs = file.split(\".\")[0]\n",
    "        if \"_\" in idxs:\n",
    "            idxs = idxs.split(\"_\")[0]\n",
    "        idxs = [int(idx) for idx in idxs.split(\"-\")]\n",
    "        labels = [class_codes[idx] for idx in idxs]\n",
    "        label_str = \",\".join(labels)\n",
    "        new_obj = {\n",
    "           \"wav\": f_path,\n",
    "           \"labels\": label_str\n",
    "          }\n",
    "        gen_data.append(new_obj)\n",
    "    return gen_data"
   ]
  },
  {
   "cell_type": "code",
   "execution_count": 10,
   "id": "4218385e-c480-4906-8850-90d06a69e893",
   "metadata": {},
   "outputs": [
    {
     "name": "stdout",
     "output_type": "stream",
     "text": [
      "access 40k\n"
     ]
    },
    {
     "name": "stderr",
     "output_type": "stream",
     "text": [
      "100%|█████████████████████████████████████████████████████████████████████████████████████████████████████████████████████████████████████████████████████████████████████████████████████████████████████████████████████████████████████████| 19969/19969 [00:00<00:00, 187317.57it/s]\n"
     ]
    },
    {
     "name": "stdout",
     "output_type": "stream",
     "text": [
      "access 60k\n"
     ]
    },
    {
     "name": "stderr",
     "output_type": "stream",
     "text": [
      "100%|█████████████████████████████████████████████████████████████████████████████████████████████████████████████████████████████████████████████████████████████████████████████████████████████████████████████████████████████████████████| 20000/20000 [00:00<00:00, 187435.66it/s]\n"
     ]
    },
    {
     "name": "stdout",
     "output_type": "stream",
     "text": [
      "access 80k\n"
     ]
    },
    {
     "name": "stderr",
     "output_type": "stream",
     "text": [
      "100%|█████████████████████████████████████████████████████████████████████████████████████████████████████████████████████████████████████████████████████████████████████████████████████████████████████████████████████████████████████████| 19996/19996 [00:00<00:00, 190428.12it/s]\n"
     ]
    },
    {
     "name": "stdout",
     "output_type": "stream",
     "text": [
      "access 100k\n"
     ]
    },
    {
     "name": "stderr",
     "output_type": "stream",
     "text": [
      "100%|█████████████████████████████████████████████████████████████████████████████████████████████████████████████████████████████████████████████████████████████████████████████████████████████████████████████████████████████████████████| 19987/19987 [00:00<00:00, 187832.99it/s]\n"
     ]
    }
   ],
   "source": [
    "bal_data = base_data[\"data\"]\n",
    "print(\"access 40k\")\n",
    "gen_40k = get_data(\"/u/li19/data_folder/audioSetAudio/audioset_40k\")\n",
    "print(\"access 60k\")\n",
    "gen_60k = get_data(\"/u/li19/data_folder/audioSetAudio/audioset_60k\")\n",
    "print(\"access 80k\")\n",
    "gen_80k = get_data(\"/u/li19/data_folder/audioSetAudio/audioset_80k\")\n",
    "print(\"access 100k\")\n",
    "gen_100k = get_data(\"/u/li19/data_folder/audioSetAudio/audioset_100k\")"
   ]
  },
  {
   "cell_type": "code",
   "execution_count": 11,
   "id": "e972aabe-bcfc-4dda-8263-7db93e4790b5",
   "metadata": {},
   "outputs": [
    {
     "name": "stdout",
     "output_type": "stream",
     "text": [
      "61682\n"
     ]
    }
   ],
   "source": [
    "final_data = bal_data + gen_40k + gen_80k\n",
    "print(len(final_data))"
   ]
  },
  {
   "cell_type": "code",
   "execution_count": 12,
   "id": "0a459c3b-cff6-4e90-890e-eb6b83061281",
   "metadata": {},
   "outputs": [],
   "source": [
    "with open(\"/u/li19/data_folder/AudioTaggingDoneRight/egs/audioset/data/datafiles/audioset_60kc_train.json\", 'w') as f:\n",
    "    json.dump({\"data\":final_data}, f)"
   ]
  },
  {
   "cell_type": "code",
   "execution_count": 13,
   "id": "b79236da-40a0-4c53-b18f-eface278b006",
   "metadata": {},
   "outputs": [],
   "source": [
    "with open(\"audioset_60kc_train.json\", 'w') as f:\n",
    "    json.dump({\"data\":final_data}, f)"
   ]
  },
  {
   "cell_type": "code",
   "execution_count": null,
   "id": "03ee2152-b6f5-4dba-a09c-d43a760024ab",
   "metadata": {},
   "outputs": [],
   "source": []
  }
 ],
 "metadata": {
  "kernelspec": {
   "display_name": "diffuse",
   "language": "python",
   "name": "diffuse"
  },
  "language_info": {
   "codemirror_mode": {
    "name": "ipython",
    "version": 3
   },
   "file_extension": ".py",
   "mimetype": "text/x-python",
   "name": "python",
   "nbconvert_exporter": "python",
   "pygments_lexer": "ipython3",
   "version": "3.10.11"
  }
 },
 "nbformat": 4,
 "nbformat_minor": 5
}
