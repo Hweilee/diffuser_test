{
 "cells": [
  {
   "cell_type": "code",
   "execution_count": 1,
   "id": "09200e32-d9b4-42ac-ae68-53b49a033d78",
   "metadata": {},
   "outputs": [],
   "source": [
    "import time\n",
    "import llm_client\n",
    "from tqdm import tqdm "
   ]
  },
  {
   "cell_type": "code",
   "execution_count": 40,
   "id": "6d8ea333-cafa-44ba-b468-9e0e64465752",
   "metadata": {},
   "outputs": [],
   "source": [
    "alpaca_client = llm_client.Client(address=\"tir-1-18\", port=4340)"
   ]
  },
  {
   "cell_type": "code",
   "execution_count": 41,
   "id": "72973e47-2701-4da2-a142-da5529fc5950",
   "metadata": {},
   "outputs": [],
   "source": [
    "prompts = [\n",
    "    \"What are the advantages and disadvantages of using international law to resolve disputes between states?\",\n",
    "    \"How has the recent rise of populism impacted the role of international law in global governance?\",\n",
    "    \"What are the legal implications of climate change and how can international law address them?\",\n",
    "    \"To what extent can international criminal law be an effective tool for deterring and punishing acts of terrorism?\",\n",
    "    \"How do human rights standards interact with national security concerns in the context of counterterrorism measures?\",\n",
    "    \"How can international law respond to the challenges posed by new and emerging technologies?\",\n",
    "    \"What is the role of international investment law in promoting economic development and protecting the rights of investors and host states?\",\n",
    "    \"How can international law address the issue of corruption and promote good governance?\",\n",
    "    \"What are the legal and ethical implications of artificial intelligence and machine learning in the legal profession?\",\n",
    "    \"How does international law regulate the use of force in self-defense and humanitarian intervention?\",\n",
    "    \"What are the implications of the ongoing refugee crisis for international refugee law and human rights?\",\n",
    "    \"How can international law address the challenges posed by transnational organized crime?\",\n",
    "    \"What is the role of international law in promoting and protecting the rights of indigenous peoples?\",\n",
    "    \"What are the legal and ethical implications of using drones in military and civilian contexts?\",\n",
    "    \"How can international law respond to the challenges posed by global health emergencies?\",\n",
    "    \"What is the role of international law in protecting the environment and promoting sustainable development?\",\n",
    "]\n",
    "\n",
    "\n",
    "n_prompts = 4"
   ]
  },
  {
   "cell_type": "code",
   "execution_count": 42,
   "id": "b34d9f75-930c-4e16-b4f2-c4905a27d82e",
   "metadata": {},
   "outputs": [
    {
     "name": "stderr",
     "output_type": "stream",
     "text": [
      "100%|████████████████████████████████████████████████████████████████████████████████████████████████████████████████| 5/5 [00:02<00:00,  2.26it/s]"
     ]
    },
    {
     "name": "stdout",
     "output_type": "stream",
     "text": [
      "10.294408709914595\n"
     ]
    },
    {
     "name": "stderr",
     "output_type": "stream",
     "text": [
      "\n"
     ]
    }
   ],
   "source": [
    "before = time.time()\n",
    "n = 5\n",
    "for i in tqdm(range(n)):\n",
    "    _ = alpaca_client.prompt(prompts[0], max_new_tokens=10)\n",
    "after = time.time()\n",
    "dt = after - before\n",
    "dt /= n\n",
    "dt *= 2_000_000\n",
    "mins = dt / 60\n",
    "hours = mins / 60\n",
    "days = hours / 24\n",
    "print(days)"
   ]
  },
  {
   "cell_type": "code",
   "execution_count": 26,
   "id": "3dfc4f3e-9000-4482-9064-86be63066d38",
   "metadata": {},
   "outputs": [],
   "source": [
    "def gen_caption(classes, client):\n",
    "    human_sample = \", \".join(classes[:-2] + [\", and \".join(classes[-2:])])\n",
    "    prompt = \"\"\n",
    "    \n",
    "    \n",
    "    preface = \"describe a situation with all of these sounds together:\"\n",
    "    \n",
    "    \n",
    "    prompt += \"For each of the 3 line summarize the sounds into a single sentence: \\n\"\n",
    "    \n",
    "    prompt += preface + \" (alarm, burp, inside, small room).\" + \"\\n > burping while an alarm plays inside a small room. \\n\\n\"\n",
    "    \n",
    "    prompt += preface + \" (dog, bark, howl, speech).\" + \"\\n > a dog barking and howling with a person speaking aswell. \\n\\n\"\n",
    "    \n",
    "    prompt += preface + \" (Music, jazz, piano, singing, speaking).\" + \"\\n > a person plays jazz piano with a singer while people talk. \\n\\n\"\n",
    "    \n",
    "    prompt += preface + \" (engine, vehicle, wind, music, speech).\" + \"\\n > people talking inside a car while driving and listening to music. \\n\\n\"\n",
    "    \n",
    "    prompt += preface + \" (water, garggle, inside, small room).\" + \"\\n >air is passing through the water in their mouth in a small room with water. \\n\\n\"\n",
    "        \n",
    "    prompt += preface + \" (scratch, hammer, metal).\" + \"\\n > hammer striking a metal surface and scratching sounds can be heard \\n\\n\"\n",
    "        \n",
    "    prompt += preface + \" (thunder, wind, bark, small room).\" + \"\\n > a dog is barking in a small room during a thunderstorm with audible wind. \\n\\n\"\n",
    "        \n",
    "    prompt += preface + \" (gunshot, vehicle engine, siren, crash).\" + \"\\n > a car chase with gunfire and sirens where a vehicle crashes. \\n\\n\"\n",
    "    \n",
    "    prompt += preface + \" (waterfall, wind, sizzle, crackle).\" + \"\\n > a fire is cracking with something sizzling near a waterfall with wind. \\n\\n\"\n",
    "    \n",
    "    prompt += preface + \" (stream, cough, cat, Purr).\" + \"\\n > a cat purrs near a coughing person while a stream can be heard. \\n\\n\"\n",
    "    \n",
    "    \n",
    "    \n",
    "    prompt += \"imagine a scene with all of these sounds existing together: \" + f\"({human_sample}). \\n >\"\n",
    "    outputs = client.prompt(prompt)\n",
    "    outputs = outputs[0].text[len(prompt) + 1:]\n",
    "    final_output = outputs.split(\"\\n\")[0]\n",
    "    return final_output\n"
   ]
  },
  {
   "cell_type": "code",
   "execution_count": 27,
   "id": "c7b0e157-f67e-4c12-b7cb-e11db672328f",
   "metadata": {},
   "outputs": [
    {
     "data": {
      "text/plain": [
       "' A family is walking in the park, the parents talking and the children petting a dog and a cat. The dog barking and the cat meowing as well as birds chirping in the background. '"
      ]
     },
     "execution_count": 27,
     "metadata": {},
     "output_type": "execute_result"
    }
   ],
   "source": [
    "final = gen_caption([\"cat\", \"dog\", \"bark\", \"hiss\"], alpaca_client)\n",
    "final"
   ]
  },
  {
   "cell_type": "code",
   "execution_count": 48,
   "id": "e1deb69c-2846-4ff0-a9ff-278601b6d2ed",
   "metadata": {},
   "outputs": [
    {
     "name": "stdout",
     "output_type": "stream",
     "text": [
      "0.0023412704467773438\n"
     ]
    }
   ],
   "source": [
    "of = open(\"test_file.txt\", 'a')\n",
    "\n",
    "t0 = time.time()\n",
    "\n",
    "for i in range(10000):\n",
    "    a = 100003232 / 123123\n",
    "    # of.write(f'{i}\\n')\n",
    "    # of.flush()\n",
    "    \n",
    "t1 = time.time()\n",
    "dt = t1-t0\n",
    "print(dt)"
   ]
  },
  {
   "cell_type": "code",
   "execution_count": 49,
   "id": "134e9bdf-2f3a-4c4c-8a54-88f1387c3caf",
   "metadata": {},
   "outputs": [
    {
     "name": "stdout",
     "output_type": "stream",
     "text": [
      "31.95549898167006\n"
     ]
    }
   ],
   "source": [
    "a = 0.07481646537780762\n",
    "b = 0.0023412704467773438\n",
    "\n",
    "print(a / b)"
   ]
  }
 ],
 "metadata": {
  "kernelspec": {
   "display_name": "Python 3 (ipykernel)",
   "language": "python",
   "name": "python3"
  },
  "language_info": {
   "codemirror_mode": {
    "name": "ipython",
    "version": 3
   },
   "file_extension": ".py",
   "mimetype": "text/x-python",
   "name": "python",
   "nbconvert_exporter": "python",
   "pygments_lexer": "ipython3",
   "version": "3.9.13"
  }
 },
 "nbformat": 4,
 "nbformat_minor": 5
}
