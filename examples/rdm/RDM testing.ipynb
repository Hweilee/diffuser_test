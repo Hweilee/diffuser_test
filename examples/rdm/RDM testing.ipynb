{
 "cells": [
  {
   "cell_type": "code",
   "execution_count": 47,
   "id": "2439f598",
   "metadata": {},
   "outputs": [],
   "source": [
    "from transformers import CLIPModel, CLIPFeatureExtractor, CLIPTokenizer\n",
    "from datasets import load_dataset, Image, load_dataset_builder, load_from_disk\n",
    "import torch\n",
    "from typing import Callable, List, Optional, Union\n",
    "import numpy as np\n",
    "import pickle\n",
    "import os"
   ]
  },
  {
   "cell_type": "code",
   "execution_count": 61,
   "id": "6102e2c6",
   "metadata": {},
   "outputs": [],
   "source": [
    "def preprocess_images(images: List[Image], feature_extractor: CLIPFeatureExtractor) -> torch.FloatTensor:\n",
    "    \"\"\"\n",
    "    Preprocesses a list of images into a batch of tensors.\n",
    "\n",
    "    Args:\n",
    "        images (:obj:`List[Image.Image]`):\n",
    "            A list of images to preprocess.\n",
    "\n",
    "    Returns:\n",
    "        :obj:`torch.FloatTensor`: A batch of tensors.\n",
    "    \"\"\"\n",
    "    images = [np.array(image) for image in images]\n",
    "#     print(images[0].shape)\n",
    "    images = [(image + 1.) / 2. for image in images]\n",
    "    images = feature_extractor(images, return_tensors=\"pt\").pixel_values\n",
    "    return images\n",
    "\n",
    "def map_img_to_clip_feature(clip, feature_extractor, imgs, device=\"cuda\"):\n",
    "    for i, image in enumerate(imgs):\n",
    "        if not image.mode == \"RGB\":\n",
    "            imgs[i] = image.convert(\"RGB\")\n",
    "    retrieved_images = preprocess_images(imgs, feature_extractor).to(device)\n",
    "    image_embeddings = clip.get_image_features(retrieved_images)\n",
    "    image_embeddings = image_embeddings / torch.linalg.norm(image_embeddings, dim=-1, keepdim=True)\n",
    "    image_embeddings = image_embeddings[None, ...]\n",
    "    return image_embeddings\n",
    "def map_txt_to_clip_feature(clip, tokenizer, prompt, device=\"cuda\"):\n",
    "    text_inputs = tokenizer(\n",
    "        prompt,\n",
    "        padding=\"max_length\",\n",
    "        max_length=tokenizer.model_max_length,\n",
    "        return_tensors=\"pt\",\n",
    "    )\n",
    "    text_input_ids = text_inputs.input_ids\n",
    "\n",
    "    if text_input_ids.shape[-1] > tokenizer.model_max_length:\n",
    "        removed_text = tokenizer.batch_decode(text_input_ids[:, tokenizer.model_max_length :])\n",
    "        logger.warning(\n",
    "            \"The following part of your input was truncated because CLIP can only handle sequences up to\"\n",
    "            f\" {tokenizer.model_max_length} tokens: {removed_text}\"\n",
    "        )\n",
    "        text_input_ids = text_input_ids[:, :tokenizer.model_max_length]\n",
    "    text_embeddings = clip.get_text_features(text_input_ids.to(device))\n",
    "    text_embeddings = text_embeddings / torch.linalg.norm(text_embeddings, dim=-1, keepdim=True)\n",
    "    text_embeddings = text_embeddings[:, None, :]\n",
    "    return text_embeddings[0][0].cpu().detach().numpy()\n",
    "def get_dataset_with_emb(dataset, clip_model, feature_extractor, device=\"cuda\", img_col=\"image\"):\n",
    "    return dataset.map(lambda example: {'embeddings': map_img_to_clip_feature(clip_model, feature_extractor, [example[img_col]], device).cpu().detach().numpy()[0][0]})\n",
    "class Retriever:\n",
    "    def __init__(self, clip_model, feature_extractor, dataset, device=\"cuda\", img_col=\"image\"):\n",
    "        self.dataset = dataset\n",
    "        self.clip_model = clip_model.to(device)\n",
    "        self.feature_extractor = feature_extractor\n",
    "        if 'embeddings' not in self.dataset.features:\n",
    "            self.dataset = get_dataset_with_emb(self.dataset, clip_model, feature_extractor, device, img_col)\n",
    "        self.dataset.add_faiss_index(column='embeddings')\n",
    "    def get_knn(self, vec, k=10):\n",
    "        return self.dataset.get_nearest_examples('embeddings', vec, k=k)"
   ]
  },
  {
   "cell_type": "code",
   "execution_count": 3,
   "id": "ae77deb3",
   "metadata": {},
   "outputs": [],
   "source": [
    "clip_model = CLIPModel.from_pretrained(\"laion/CLIP-ViT-L-14-laion2B-s32B-b82K\")"
   ]
  },
  {
   "cell_type": "code",
   "execution_count": 4,
   "id": "cee121f3",
   "metadata": {},
   "outputs": [],
   "source": [
    "feature_extractor = CLIPFeatureExtractor.from_pretrained(\"laion/CLIP-ViT-L-14-laion2B-s32B-b82K\")"
   ]
  },
  {
   "cell_type": "code",
   "execution_count": 51,
   "id": "05398ecb",
   "metadata": {},
   "outputs": [],
   "source": [
    "tokenizer = CLIPTokenizer.from_pretrained(\"openai/clip-vit-large-patch14\")"
   ]
  },
  {
   "cell_type": "code",
   "execution_count": 27,
   "id": "6e491b2b",
   "metadata": {
    "scrolled": true
   },
   "outputs": [
    {
     "name": "stderr",
     "output_type": "stream",
     "text": [
      "Using custom data configuration pcuenq--oxford-pets-43375e644eed3d52\n",
      "Found cached dataset parquet (D:/cache/huggingface/datasets/pcuenq___parquet/pcuenq--oxford-pets-43375e644eed3d52/0.0.0/2a3b91fbd88a2c90d1dbbb32b460cf621d31bd5b05b934492fdef7d8d6f236ec)\n"
     ]
    }
   ],
   "source": [
    "dataset = load_dataset(\"pcuenq/oxford-pets\", split=\"train\")"
   ]
  },
  {
   "cell_type": "code",
   "execution_count": 37,
   "id": "05593e2a",
   "metadata": {},
   "outputs": [],
   "source": [
    "emb_db_name = 'oxford_emb.hf'"
   ]
  },
  {
   "cell_type": "code",
   "execution_count": 43,
   "id": "0da5276d",
   "metadata": {
    "scrolled": true
   },
   "outputs": [],
   "source": [
    "if os.path.exists(emb_db_name):\n",
    "    dataset = load_from_disk(emb_db_name)\n",
    "else:\n",
    "    dataset = get_dataset_with_emb(dataset, clip_model, feature_extractor)\n",
    "    dataset.save_to_disk(emb_db_name)"
   ]
  },
  {
   "cell_type": "code",
   "execution_count": 45,
   "id": "2a4b8d9d",
   "metadata": {
    "scrolled": true
   },
   "outputs": [
    {
     "data": {
      "application/vnd.jupyter.widget-view+json": {
       "model_id": "09c992f876a748098bb8c0ce666bad1c",
       "version_major": 2,
       "version_minor": 0
      },
      "text/plain": [
       "  0%|          | 0/8 [00:00<?, ?it/s]"
      ]
     },
     "metadata": {},
     "output_type": "display_data"
    }
   ],
   "source": [
    "retriever = Retriever(clip_model, feature_extractor, dataset)"
   ]
  },
  {
   "cell_type": "code",
   "execution_count": 76,
   "id": "bbf13437",
   "metadata": {},
   "outputs": [],
   "source": [
    "vec = map_txt_to_clip_feature(clip_model, tokenizer, \"cat\", device=\"cuda\")"
   ]
  },
  {
   "cell_type": "code",
   "execution_count": 77,
   "id": "75fd7462",
   "metadata": {},
   "outputs": [],
   "source": [
    "examples = retriever.get_knn(vec)"
   ]
  },
  {
   "cell_type": "code",
   "execution_count": 79,
   "id": "85031036",
   "metadata": {},
   "outputs": [
    {
     "data": {
      "image/png": "[encoded data removed]",
      "text/plain": [
       "<PIL.JpegImagePlugin.JpegImageFile image mode=RGB size=175x186>"
      ]
     },
     "execution_count": 79,
     "metadata": {},
     "output_type": "execute_result"
    }
   ],
   "source": [
    "examples.examples['image'][0]"
   ]
  },
  {
   "cell_type": "code",
   "execution_count": 9,
   "id": "437e00fe",
   "metadata": {},
   "outputs": [
    {
     "data": {
      "text/plain": [
       "7390"
      ]
     },
     "execution_count": 9,
     "metadata": {},
     "output_type": "execute_result"
    }
   ],
   "source": [
    "len(dataset['image'])"
   ]
  },
  {
   "cell_type": "code",
   "execution_count": null,
   "id": "280c3a7a",
   "metadata": {},
   "outputs": [],
   "source": []
  },
  {
   "cell_type": "code",
   "execution_count": null,
   "id": "7a45c411",
   "metadata": {},
   "outputs": [],
   "source": []
  }
 ],
 "metadata": {
  "kernelspec": {
   "display_name": "Python 3 (ipykernel)",
   "language": "python",
   "name": "python3"
  },
  "language_info": {
   "codemirror_mode": {
    "name": "ipython",
    "version": 3
   },
   "file_extension": ".py",
   "mimetype": "text/x-python",
   "name": "python",
   "nbconvert_exporter": "python",
   "pygments_lexer": "ipython3",
   "version": "3.10.8"
  },
  "vscode": {
   "interpreter": {
    "hash": "b09ec625f77bf4fd762565a912b97636504ad6ec901eb2d0f4cf5a7de23e1ee5"
   }
  }
 },
 "nbformat": 4,
 "nbformat_minor": 5
}
